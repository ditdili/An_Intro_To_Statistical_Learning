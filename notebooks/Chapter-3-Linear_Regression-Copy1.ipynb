{
 "cells": [
  {
   "cell_type": "markdown",
   "metadata": {},
   "source": [
    "## Chapter 3 - Linear Regression - Notes\n",
    "\n",
    "This notebook contains the data imports and my interpretation of the plots from the Chapter 3 of ISL. I also added few notes related to the theory, and few methods to ease the plotting.\n",
    "\n",
    "* [3.1 - Simple Linear Regression](#sim_lin_reg)\n",
    "* &ensp;&ensp;[3.1.1 - Estimating the Coefficient](#est_coef)\n",
    "* [3.2 - Multiple Linear Regression](#mult_lin_reg)\n",
    "* [3.3 - Other Considerations in the Regression Model](#other_cons)\n",
    "* &ensp;&ensp;[3.3.2 - Extensions of the Linear Model](#ext_lin)\n",
    "* &ensp;&ensp;[3.3.3 - Potential Problems](#pot_prob)\n",
    "\n",
    "\n",
    "__Standard imports:__"
   ]
  },
  {
   "cell_type": "code",
   "execution_count": 1,
   "metadata": {},
   "outputs": [],
   "source": [
    "%matplotlib inline\n",
    "import numpy as np\n",
    "import pandas as pd\n",
    "import matplotlib.pyplot as plt\n",
    "import seaborn as sns; sns.set_style('whitegrid')"
   ]
  },
  {
   "cell_type": "markdown",
   "metadata": {},
   "source": [
    "<a id='sim_lin_reg'></a>"
   ]
  },
  {
   "cell_type": "markdown",
   "metadata": {},
   "source": [
    "### 3.1 - Simple Linear Regression\n",
    "\n",
    "Simple linear regression assumes that there is approximately a linear relationship between the predictor X and the quantitative response Y.\n",
    "\n",
    "\\begin{equation*}\n",
    "Y \\approx \\beta_0 + \\beta_1X \\;\\;\\;\\;\\;\\;\\;\\;\\;\\;(3.1)\n",
    "\\end{equation*}\n",
    "\n",
    "$\\beta_0$ and $\\beta_1$ , intercept and slope, together are known as the models coefficient parameters. Once we estimate $\\beta_0$ and $\\beta_1$, we can predict future values:\n",
    "\n",
    "\\begin{equation*}\n",
    "\\hat{y} = \\hat{\\beta_0} + \\hat{\\beta_1}x \\;\\;\\;\\;\\;\\;\\;\\;\\;\\;(3.2)\n",
    "\\end{equation*}\n",
    "\n",
    "$\\hat{y}$ - prediction of $Y$ on basis $X = x$."
   ]
  },
  {
   "cell_type": "markdown",
   "metadata": {},
   "source": [
    "<a id='est_coef'></a>"
   ]
  },
  {
   "cell_type": "markdown",
   "metadata": {},
   "source": [
    "### 3.1.1 - Estimating the Coefficient\n",
    "\n",
    "Given $(x_1, y_1), (x_2, y_2),..., (x_n, y_n)$ represent n observation pairs, each of which consist of a measurement of X and Y. The goal is to obtain coefficient estimates of $\\hat{\\beta_0}$ and $\\hat{\\beta_0}$ so that linear model _(3.1)_ fits the data well. The most common approach involves minimizing the __least squares__ criterion.\n",
    "\n",
    "Let $\\hat{y} = \\hat{\\beta_0} + \\hat{\\beta_1}x$ be the prediction for Y based on the $i$th value of X, and $e_i = y_i - \\hat{y_i}$ represent the $i$th __residual__ (observed - predicted).\n",
    "\n",
    "The __Residual Sum of Squares (RSS)__:\n",
    "\n",
    "\\begin{equation*}\n",
    "RSS = e_{1}^2 + e_{2}^2 + \\dots + e_{n}^2,\n",
    "\\end{equation*}\n",
    "\n",
    "or, \n",
    "\n",
    "\\begin{equation*}\n",
    "RSS = (y_1 - \\hat{\\beta_0} - \\hat{\\beta_1}x_1)^2 + (y_2 - \\hat{\\beta_0} - \\hat{\\beta_1}x_2)^2 + \\dots + (y_n - \\hat{\\beta_0} - \\hat{\\beta_1}x_n)^2 \\;\\;\\;\\;\\;\\;\\;\\;\\;\\;(3.3)\n",
    "\\end{equation*}\n",
    "\n",
    "The least squares approach chooses $\\hat{\\beta_0} + \\hat{\\beta_1}$ to minimize the RSS:\n",
    "\n",
    "\\begin{equation*}\n",
    "\\hat{\\beta_1} = \\frac{\\sum_{i=1}^n(x_i - \\bar{x})(y_i - \\bar{y})}{\\sum_{i=1}^n(x_i - \\bar{x})^2}, \\\\\n",
    "\\hat{\\beta_0} = \\bar{y} - \\hat{\\beta_1}\\bar{x}, \\;\\;\\;\\;\\;\\;\\;\\;\\;\\;(3.4)\n",
    "\\end{equation*}\n",
    "\n",
    "where $\\bar{y} \\equiv \\frac{1}{n}\\sum_{i=1}^ny_i$ and $\\bar{x} \\equiv \\frac{1}{n}\\sum_{i=1}^nx_i$ are the sample means."
   ]
  },
  {
   "cell_type": "code",
   "execution_count": 2,
   "metadata": {
    "scrolled": true
   },
   "outputs": [
    {
     "data": {
      "text/html": [
       "<div>\n",
       "<style scoped>\n",
       "    .dataframe tbody tr th:only-of-type {\n",
       "        vertical-align: middle;\n",
       "    }\n",
       "\n",
       "    .dataframe tbody tr th {\n",
       "        vertical-align: top;\n",
       "    }\n",
       "\n",
       "    .dataframe thead th {\n",
       "        text-align: right;\n",
       "    }\n",
       "</style>\n",
       "<table border=\"1\" class=\"dataframe\">\n",
       "  <thead>\n",
       "    <tr style=\"text-align: right;\">\n",
       "      <th></th>\n",
       "      <th>TV</th>\n",
       "      <th>radio</th>\n",
       "      <th>newspaper</th>\n",
       "      <th>sales</th>\n",
       "    </tr>\n",
       "  </thead>\n",
       "  <tbody>\n",
       "    <tr>\n",
       "      <th>0</th>\n",
       "      <td>230.1</td>\n",
       "      <td>37.8</td>\n",
       "      <td>69.2</td>\n",
       "      <td>22.1</td>\n",
       "    </tr>\n",
       "    <tr>\n",
       "      <th>1</th>\n",
       "      <td>44.5</td>\n",
       "      <td>39.3</td>\n",
       "      <td>45.1</td>\n",
       "      <td>10.4</td>\n",
       "    </tr>\n",
       "    <tr>\n",
       "      <th>2</th>\n",
       "      <td>17.2</td>\n",
       "      <td>45.9</td>\n",
       "      <td>69.3</td>\n",
       "      <td>9.3</td>\n",
       "    </tr>\n",
       "    <tr>\n",
       "      <th>3</th>\n",
       "      <td>151.5</td>\n",
       "      <td>41.3</td>\n",
       "      <td>58.5</td>\n",
       "      <td>18.5</td>\n",
       "    </tr>\n",
       "    <tr>\n",
       "      <th>4</th>\n",
       "      <td>180.8</td>\n",
       "      <td>10.8</td>\n",
       "      <td>58.4</td>\n",
       "      <td>12.9</td>\n",
       "    </tr>\n",
       "  </tbody>\n",
       "</table>\n",
       "</div>"
      ],
      "text/plain": [
       "      TV  radio  newspaper  sales\n",
       "0  230.1   37.8       69.2   22.1\n",
       "1   44.5   39.3       45.1   10.4\n",
       "2   17.2   45.9       69.3    9.3\n",
       "3  151.5   41.3       58.5   18.5\n",
       "4  180.8   10.8       58.4   12.9"
      ]
     },
     "execution_count": 2,
     "metadata": {},
     "output_type": "execute_result"
    }
   ],
   "source": [
    "# Loading 'Advertising' data\n",
    "advertising = pd.read_csv('Data/Advertising.csv', usecols=(1, 2, 3, 4))\n",
    "\n",
    "# Checking the import\n",
    "advertising.head()"
   ]
  },
  {
   "cell_type": "code",
   "execution_count": 3,
   "metadata": {
    "scrolled": true
   },
   "outputs": [
    {
     "data": {
      "text/html": [
       "<div>\n",
       "<style scoped>\n",
       "    .dataframe tbody tr th:only-of-type {\n",
       "        vertical-align: middle;\n",
       "    }\n",
       "\n",
       "    .dataframe tbody tr th {\n",
       "        vertical-align: top;\n",
       "    }\n",
       "\n",
       "    .dataframe thead th {\n",
       "        text-align: right;\n",
       "    }\n",
       "</style>\n",
       "<table border=\"1\" class=\"dataframe\">\n",
       "  <thead>\n",
       "    <tr style=\"text-align: right;\">\n",
       "      <th></th>\n",
       "      <th>TV</th>\n",
       "      <th>radio</th>\n",
       "      <th>newspaper</th>\n",
       "      <th>sales</th>\n",
       "    </tr>\n",
       "  </thead>\n",
       "  <tbody>\n",
       "    <tr>\n",
       "      <th>count</th>\n",
       "      <td>200.000000</td>\n",
       "      <td>200.000000</td>\n",
       "      <td>200.000000</td>\n",
       "      <td>200.000000</td>\n",
       "    </tr>\n",
       "    <tr>\n",
       "      <th>mean</th>\n",
       "      <td>147.042500</td>\n",
       "      <td>23.264000</td>\n",
       "      <td>30.554000</td>\n",
       "      <td>14.022500</td>\n",
       "    </tr>\n",
       "    <tr>\n",
       "      <th>std</th>\n",
       "      <td>85.854236</td>\n",
       "      <td>14.846809</td>\n",
       "      <td>21.778621</td>\n",
       "      <td>5.217457</td>\n",
       "    </tr>\n",
       "    <tr>\n",
       "      <th>min</th>\n",
       "      <td>0.700000</td>\n",
       "      <td>0.000000</td>\n",
       "      <td>0.300000</td>\n",
       "      <td>1.600000</td>\n",
       "    </tr>\n",
       "    <tr>\n",
       "      <th>25%</th>\n",
       "      <td>74.375000</td>\n",
       "      <td>9.975000</td>\n",
       "      <td>12.750000</td>\n",
       "      <td>10.375000</td>\n",
       "    </tr>\n",
       "    <tr>\n",
       "      <th>50%</th>\n",
       "      <td>149.750000</td>\n",
       "      <td>22.900000</td>\n",
       "      <td>25.750000</td>\n",
       "      <td>12.900000</td>\n",
       "    </tr>\n",
       "    <tr>\n",
       "      <th>75%</th>\n",
       "      <td>218.825000</td>\n",
       "      <td>36.525000</td>\n",
       "      <td>45.100000</td>\n",
       "      <td>17.400000</td>\n",
       "    </tr>\n",
       "    <tr>\n",
       "      <th>max</th>\n",
       "      <td>296.400000</td>\n",
       "      <td>49.600000</td>\n",
       "      <td>114.000000</td>\n",
       "      <td>27.000000</td>\n",
       "    </tr>\n",
       "  </tbody>\n",
       "</table>\n",
       "</div>"
      ],
      "text/plain": [
       "               TV       radio   newspaper       sales\n",
       "count  200.000000  200.000000  200.000000  200.000000\n",
       "mean   147.042500   23.264000   30.554000   14.022500\n",
       "std     85.854236   14.846809   21.778621    5.217457\n",
       "min      0.700000    0.000000    0.300000    1.600000\n",
       "25%     74.375000    9.975000   12.750000   10.375000\n",
       "50%    149.750000   22.900000   25.750000   12.900000\n",
       "75%    218.825000   36.525000   45.100000   17.400000\n",
       "max    296.400000   49.600000  114.000000   27.000000"
      ]
     },
     "execution_count": 3,
     "metadata": {},
     "output_type": "execute_result"
    }
   ],
   "source": [
    "advertising.describe()"
   ]
  },
  {
   "cell_type": "markdown",
   "metadata": {},
   "source": [
    "Using __scikit-learn__ to quickly estimate the intercept and slope:"
   ]
  },
  {
   "cell_type": "code",
   "execution_count": 4,
   "metadata": {},
   "outputs": [],
   "source": [
    "# Single predictor variable X, and a quantitative response Y\n",
    "X = advertising[['TV']]\n",
    "y = advertising['sales']"
   ]
  },
  {
   "cell_type": "code",
   "execution_count": 5,
   "metadata": {},
   "outputs": [
    {
     "name": "stdout",
     "output_type": "stream",
     "text": [
      "Intercept: 7.0326 \n",
      "Slope:     0.0475\n"
     ]
    }
   ],
   "source": [
    "# Importing LinearRegression from sklearn\n",
    "from sklearn.linear_model import LinearRegression\n",
    "\n",
    "# Instantiating the model\n",
    "model = LinearRegression()\n",
    "\n",
    "# Fitting the model and printing the values\n",
    "model.fit(X, y)\n",
    "print('Intercept: {0:.4f} \\nSlope: {1:10.4f}'.format(model.intercept_, model.coef_[0]))"
   ]
  },
  {
   "cell_type": "markdown",
   "metadata": {},
   "source": [
    "<br><br>\n",
    "__FIGURE 3.1.__ For the __Advertising__ data, the least squares fit for the regression of __sales__ onto __TV__ is shown."
   ]
  },
  {
   "cell_type": "code",
   "execution_count": 6,
   "metadata": {},
   "outputs": [
    {
     "data": {
      "image/png": "[encoded data removed]",
      "text/plain": [
       "<matplotlib.figure.Figure at 0x1b32d2de9b0>"
      ]
     },
     "metadata": {},
     "output_type": "display_data"
    }
   ],
   "source": [
    "fig, ax = plt.subplots(figsize = (8, 5))\n",
    "\n",
    "# Scatter plot of Sales ontoTV data\n",
    "ax.scatter(X, y, alpha=0.6, c='r')\n",
    "\n",
    "# Plotting the least square fit for the regression of Sales onto TV\n",
    "x_line = np.arange(-10, 320, 1)\n",
    "ax.plot(x_line, model.intercept_ + model.coef_[0] * x_line, c='deepskyblue')\n",
    "\n",
    "# Predicting the values using the model\n",
    "y_hat = model.intercept_ + model.coef_[0] * X['TV']\n",
    "\n",
    "# Plotting ei - ith residual line for every i in range X\n",
    "for i in np.arange(len(X)):\n",
    "    ax.plot([X.iloc[i], X.iloc[i]], [y.iloc[i], y_hat.iloc[i]], c='k', alpha=0.4, lw=0.6)\n",
    "\n",
    "# Labels and plot limits\n",
    "ax.set_xlabel('TV')\n",
    "ax.set_ylabel('Sales')\n",
    "ax.set_xlim(-10, 310);"
   ]
  },
  {
   "cell_type": "markdown",
   "metadata": {},
   "source": [
    "<br><br>\n",
    "__TABLE 3.1.__ For the __Advertising__ data, coefficients of the least squares model for the regression of number of units sold on TV advertising budget. Using statsmodels library for the similar output."
   ]
  },
  {
   "cell_type": "code",
   "execution_count": 7,
   "metadata": {},
   "outputs": [
    {
     "data": {
      "image/png": "[encoded data removed]",
      "text/plain": [
       "<matplotlib.figure.Figure at 0x1b330a25a90>"
      ]
     },
     "metadata": {},
     "output_type": "display_data"
    }
   ],
   "source": [
    "# Defining the figure size size and the subplots\n",
    "fig, (ax1, ax2) = plt.subplots(1, 2, figsize=(12, 5))\n",
    "\n",
    "# Random seed for data reproducibility\n",
    "np.random.seed(2)\n",
    "\n",
    "# Generating the X values\n",
    "X = np.linspace(-2, 2, 100)\n",
    "\n",
    "# Y values with errors generated from a normal distribution\n",
    "Y = 2 + 3 * X + 3 * np.random.randn(100)\n",
    "\n",
    "# Calculating the true relationship\n",
    "X_line = np.linspace(-2.5, 2.5, 150)\n",
    "Y_line = 2 + 3 * X_line\n",
    "\n",
    "# Calculating the least square coefficients\n",
    "b_1 = np.sum((X - X.mean()) * (Y - Y.mean())) / np.sum((X - X.mean()) ** 2)\n",
    "b_0 = Y.mean() - b_1 * X.mean()\n",
    "\n",
    "# Calculating the least squares estimate\n",
    "Y_ls = b_0 + b_1 * X_line\n",
    "\n",
    "\n",
    "# For the Right Plot:\n",
    "# Empty lists for storing the coefficients for every random sample\n",
    "b0_list = []\n",
    "b1_list = []\n",
    "\n",
    "# Creating a DataFrame from X and Y values to draw random samples\n",
    "merged_data = pd.DataFrame({'X': X, 'Y': Y})\n",
    "\n",
    "for i in range(10):\n",
    "    # Taking a random sample from the data\n",
    "    sample_df = merged_data.sample(30)\n",
    "    \n",
    "    X_s = sample_df['X']\n",
    "    Y_s = sample_df['Y']\n",
    "    \n",
    "    # Calculating the coefficients for the sample\n",
    "    b_1_s = np.sum((X_s - X_s.mean()) * (Y_s - Y_s.mean())) / np.sum((X_s - X_s.mean()) ** 2)\n",
    "    b_0_s = Y_s.mean() - b_1_s * X_s.mean()\n",
    "    \n",
    "    # The least square estimate for the random sample\n",
    "    Y_ls_s = b_0_s + b_1_s * X_line\n",
    "    \n",
    "    # Plotting the ls estimate\n",
    "    ax2.plot(X_line, Y_ls_s, c='lightblue', alpha=0.6)\n",
    "    \n",
    "    # Appending coefficients of the sample to a list\n",
    "    b0_list.append(b_0_s)\n",
    "    b1_list.append(b_1_s)\n",
    "    \n",
    "# Plotting on both plots\n",
    "for ax in (ax1, ax2):\n",
    "    # Scatter plot of the data\n",
    "    ax.scatter(X, Y, s=30, edgecolor='k', facecolor='None')\n",
    "    # The true relationship\n",
    "    ax.plot(X_line, Y_line, c='orangered')\n",
    "    # The least square estimate\n",
    "    ax.plot(X_line, Y_ls, c='steelblue')\n",
    "    \n",
    "    # Setting extra parameters for the plots\n",
    "    ax.set_xlabel('X', fontsize=12)\n",
    "    ax.set_ylabel('Y', fontsize=12)\n",
    "    ax.set_xticks(np.arange(-2, 2.1))\n",
    "    ax.set_xlim(-2.1, 2.1);"
   ]
  },
  {
   "cell_type": "code",
   "execution_count": 8,
   "metadata": {},
   "outputs": [
    {
     "name": "stdout",
     "output_type": "stream",
     "text": [
      "Average of intercepts:   1.54 \n",
      "Average of slopes:       3.26\n"
     ]
    }
   ],
   "source": [
    "# Creating a DataFrame from two lists\n",
    "coefficients = pd.DataFrame({'b0': b0_list, 'b1': b1_list})\n",
    "print('Average of intercepts: {0:6.2f} \\nAverage of slopes: {1:10.2f}'\n",
    "      .format(coefficients['b0'].mean(), coefficients['b1'].mean()))"
   ]
  },
  {
   "cell_type": "code",
   "execution_count": null,
   "metadata": {},
   "outputs": [],
   "source": [
    "# Importing the needed module\n",
    "import statsmodels.formula.api as smf\n",
    "\n",
    "# Linear model and printing the summary table\n",
    "lm = smf.ols('sales~TV', data=advertising).fit()\n",
    "print(lm.summary())"
   ]
  },
  {
   "cell_type": "markdown",
   "metadata": {},
   "source": [
    "__RSE (Residual standard error)__ is an estimate of the standard deviation of error. It is not provided in the __statsmodels__ table. Below equation calculates the RSE.\n",
    "\n",
    "\\begin{equation*}\n",
    "RSE = \\sqrt{\\frac{1}{n-2}RSS} = \\sqrt{\\frac{1}{n-2}\\sum_{i=1}^{n} \\Bigl(y_i - f(x_i) \\Bigr)^2}\n",
    "\\end{equation*}\n",
    "\n",
    "If the predictions obtained by model ($\\hat{y}$) are very close to the true outcome values, then RSE will be small, concluding that the model fits the data very well. "
   ]
  },
  {
   "cell_type": "code",
   "execution_count": null,
   "metadata": {},
   "outputs": [],
   "source": [
    "# Calculating RSS\n",
    "ssRes = np.sum((y - y_hat)**2)\n",
    "\n",
    "# Calculating RSE\n",
    "rse = np.sqrt(ssRes / (len(y) - 2))\n",
    "\n",
    "# Printing RSE\n",
    "print('Residual standard error: {:.2f}'.format(rse))"
   ]
  },
  {
   "cell_type": "code",
   "execution_count": null,
   "metadata": {},
   "outputs": [],
   "source": [
    "ex1 = 1/(len(advertising['TV']) - 2)\n",
    "ex2 = advertising['TV'].mean()\n",
    "ex3 = np.sum((advertising['TV'] - ex2) ** 2)            \n",
    "std_err_b_z = rse * (ex1 + (ex2 / ex3))\n",
    "std_err_b_z"
   ]
  },
  {
   "cell_type": "code",
   "execution_count": null,
   "metadata": {},
   "outputs": [],
   "source": [
    "se_b1 = rse / ex3\n",
    "se_b1"
   ]
  },
  {
   "cell_type": "markdown",
   "metadata": {},
   "source": [
    "__R-squared (coefficient of determination)__ measures how well the observed values of the response variables are predicted by the model. For a linear model the values are in the range of 0 to 1. The value close to 1 indicates that a large proportion of the variability in the response has been explained by the regression. The value of 1 indicates that the regression line perfectly fits the data.\n",
    "\n",
    "\\begin{equation*}\n",
    "R^2 = 1 - \\frac {SS_{res}}{SS_{tot}}\n",
    "\\end{equation*}"
   ]
  },
  {
   "cell_type": "markdown",
   "metadata": {},
   "source": [
    "<a id='mult_lin_reg'></a>"
   ]
  },
  {
   "cell_type": "markdown",
   "metadata": {},
   "source": [
    "#### 3.2 - Multiple Linear Regression"
   ]
  },
  {
   "cell_type": "code",
   "execution_count": null,
   "metadata": {},
   "outputs": [],
   "source": [
    "# Multiple predictors variable X, and a quantitative response Y\n",
    "X = advertising[['TV', 'radio', 'newspaper']]\n",
    "y = advertising['sales']\n",
    "\n",
    "# Fitting the model and printing the coefficients\n",
    "model.fit(X, y)\n",
    "print(model.intercept_)\n",
    "print(model.coef_)"
   ]
  },
  {
   "cell_type": "markdown",
   "metadata": {},
   "source": [
    "<br><br>\n",
    "__TABLE 3.4.__ Multiple linear regression information on __Advertising__ data."
   ]
  },
  {
   "cell_type": "code",
   "execution_count": null,
   "metadata": {
    "scrolled": false
   },
   "outputs": [],
   "source": [
    "# Multiple linear regression model, and printing the summary table\n",
    "lm = smf.ols('sales ~ TV + radio + newspaper', data=advertising).fit()\n",
    "print(lm.summary())"
   ]
  },
  {
   "cell_type": "markdown",
   "metadata": {},
   "source": [
    "<br><br>\n",
    "__TABLE 3.5.__ Correlation matrix for __TV, radio, newspaper,__ and __sales__ for the __Advertising__ data."
   ]
  },
  {
   "cell_type": "code",
   "execution_count": null,
   "metadata": {},
   "outputs": [],
   "source": [
    "# Computing pairwise correlation of columns, using pandas corr() function, and assigning to a variable\n",
    "corr = advertising.corr()\n",
    "\n",
    "# Using seaborn's heatmap function for the correlation matrix\n",
    "sns.heatmap(corr, square=True, annot=True, cbar=False, cmap='Blues', linewidths=0.5);"
   ]
  },
  {
   "cell_type": "markdown",
   "metadata": {},
   "source": [
    "<a id='other_cons'></a>"
   ]
  },
  {
   "cell_type": "markdown",
   "metadata": {},
   "source": [
    "#### 3.3 - Other Considerations in the Regression Model"
   ]
  },
  {
   "cell_type": "code",
   "execution_count": null,
   "metadata": {},
   "outputs": [],
   "source": [
    "# Loading 'Credit' data\n",
    "credit = pd.read_csv('Data/Credit.csv', usecols=list(np.arange(1, 12)))\n",
    "credit.head()"
   ]
  },
  {
   "cell_type": "markdown",
   "metadata": {},
   "source": [
    "<br><br>\n",
    "__FIGURE 3.6.__ The __Credit__ data set contains information about __balance, age, cards, education, income, limit,__ and __rating__ for a number of potential customers."
   ]
  },
  {
   "cell_type": "code",
   "execution_count": null,
   "metadata": {},
   "outputs": [],
   "source": [
    "# Using seaborn's pairplot function\n",
    "sns.pairplot(credit[['Balance', 'Age', 'Cards', 'Education', 'Income', 'Limit', 'Rating']],\n",
    "            plot_kws=dict(alpha=0.8));"
   ]
  },
  {
   "cell_type": "markdown",
   "metadata": {},
   "source": [
    "<br><br>\n",
    "__TABLE 3.7.__ Least squares coefficient estimates associated with the regression of __balance__ onto __gender__ in the __Credit__ data set."
   ]
  },
  {
   "cell_type": "code",
   "execution_count": null,
   "metadata": {},
   "outputs": [],
   "source": [
    "est = smf.ols('Balance~Gender', credit).fit()\n",
    "print(est.summary().tables[1])"
   ]
  },
  {
   "cell_type": "markdown",
   "metadata": {},
   "source": [
    "<br><br>\n",
    "__TABLE 3.8.__ Least squares coefficient estimates associated with the regression of __balance__ onto __ethnicity__ in the __Credit__ data set."
   ]
  },
  {
   "cell_type": "code",
   "execution_count": null,
   "metadata": {
    "scrolled": true
   },
   "outputs": [],
   "source": [
    "est = smf.ols('Balance~Ethnicity', credit).fit()\n",
    "print(est.summary().tables[1])"
   ]
  },
  {
   "cell_type": "markdown",
   "metadata": {},
   "source": [
    "<a id='ext_lin'></a>"
   ]
  },
  {
   "cell_type": "markdown",
   "metadata": {},
   "source": [
    "#### 3.3.2 - Extensions of the Linear Model\n",
    "\n",
    "__TABLE 3.9.__ For the __Advertising__ data, least squares coefficient estimates associated with the regression of sales onto __TV__ and __radio__, with an interaction term."
   ]
  },
  {
   "cell_type": "code",
   "execution_count": null,
   "metadata": {
    "scrolled": true
   },
   "outputs": [],
   "source": [
    "lm = smf.ols('sales ~ TV + radio + (TV * radio)', data=advertising).fit()\n",
    "print(lm.summary().tables[1])"
   ]
  },
  {
   "cell_type": "markdown",
   "metadata": {},
   "source": [
    "#### Non-linear relationship\n",
    "\n",
    "Now we are going to look at the __Auto.csv__ data set. The data set has missing horsepower values, indicated by '?'. Also the values are in the string format. The code shown below imports the data, removes the rows containing '?', and transforms the type to __int__."
   ]
  },
  {
   "cell_type": "code",
   "execution_count": null,
   "metadata": {
    "scrolled": true
   },
   "outputs": [],
   "source": [
    "auto = pd.read_csv('Data/Auto.csv')\n",
    "auto = auto[auto['horsepower'] != '?']\n",
    "auto['horsepower'] = auto['horsepower'].astype(int)\n",
    "auto.head()"
   ]
  },
  {
   "cell_type": "markdown",
   "metadata": {},
   "source": [
    "<br><br>\n",
    "__FIGURE 3.8.__ The __Auto__ data set. The linear regression fit, second-degree polynomials fit, and fifth-degree polynomials fit."
   ]
  },
  {
   "cell_type": "code",
   "execution_count": null,
   "metadata": {},
   "outputs": [],
   "source": [
    "plt.scatter(auto['horsepower'], auto['mpg'], facecolors='None', edgecolors='k', label=None)\n",
    "sns.regplot(auto['horsepower'], auto['mpg'], ci=None, color='orangered', label='Linear', scatter=False)\n",
    "sns.regplot(auto['horsepower'], auto['mpg'], ci=None, color='deepskyblue', label='Degree 2', order=2, scatter=False)\n",
    "sns.regplot(auto['horsepower'], auto['mpg'], ci=None, color='seagreen', label='Degree 5', order=5, scatter=False)\n",
    "\n",
    "plt.ylabel('Miles per gallon')\n",
    "plt.xlim(np.min(auto['horsepower']), np.max(auto['horsepower']))\n",
    "plt.ylim(np.min(auto['mpg']), np.max(auto['mpg']))\n",
    "\n",
    "# Adding the legend\n",
    "custom_legend = plt.legend(frameon=True)\n",
    "custom_legend.get_frame().set_edgecolor('k');"
   ]
  },
  {
   "cell_type": "markdown",
   "metadata": {},
   "source": [
    "<br><br>\n",
    "__TABLE 3.10.__ Least squares coefficient estimates associated with the regression of __mpg__ onto __horsepower__ and __horsepower2__."
   ]
  },
  {
   "cell_type": "code",
   "execution_count": null,
   "metadata": {
    "scrolled": true
   },
   "outputs": [],
   "source": [
    "lm_auto_poly = smf.ols('mpg~horsepower + I(horsepower ** 2.0)', data=auto).fit()\n",
    "print(lm_auto_poly.summary().tables[1])"
   ]
  },
  {
   "cell_type": "markdown",
   "metadata": {},
   "source": [
    "<a id='pot_prob'></a>"
   ]
  },
  {
   "cell_type": "markdown",
   "metadata": {
    "collapsed": true
   },
   "source": [
    "#### 3.3.3 - Potential Problems\n",
    "\n",
    "There is a great article on [Medium](https://medium.com/@emredjan/emulating-r-regression-plots-in-python-43741952c034), by Emre Can, recreating the R plots in Python. Below codes are slight modifications of the tutorial.\n",
    "\n",
    "__R__ produces 4 different plots:\n",
    "* __Residuals vs. Fitted plot__:\n",
    "\n",
    "__Fitted__ - the prediction of X values with the slope and intercept of the model.\n",
    "\n",
    "__Residual__ - the difference between the actual value and the predicted by the model."
   ]
  },
  {
   "cell_type": "code",
   "execution_count": null,
   "metadata": {},
   "outputs": [],
   "source": [
    "def res_vs_fit(x, y):\n",
    "    sns.residplot(x, y, lowess=True, scatter_kws={'alpha': 0.8}, \n",
    "                  line_kws={'color': 'red', 'lw': 2, 'alpha': 0.8})\n",
    "    \n",
    "    plt.xlabel('Fitted')\n",
    "    plt.ylabel('Residuals');"
   ]
  },
  {
   "cell_type": "markdown",
   "metadata": {},
   "source": [
    "* __Normal Q-Q plot__:\n",
    "\n",
    "Normal Q-Q (quantile-quantile) plot shows if the data came from a theoretical distribution such as a Normal or exponential. If the line formed by the scatterplot is roughly straight then both sets of quantiles come from Normal distributions ([Detailed explanation](http://data.library.virginia.edu/understanding-q-q-plots/))."
   ]
  },
  {
   "cell_type": "code",
   "execution_count": null,
   "metadata": {},
   "outputs": [],
   "source": [
    "def qq_plot(x):\n",
    "    from statsmodels.graphics.gofplots import ProbPlot\n",
    "    QQ = ProbPlot(x)\n",
    "    QQ.qqplot(line='45', alpha=0.5, color='#4C72B0', lw=1)\n",
    "    plt.ylabel('Standardized Residuals');"
   ]
  },
  {
   "cell_type": "markdown",
   "metadata": {},
   "source": [
    "* __Scale-Location plot__:\n",
    "\n",
    "Scale-Location plot shows if residuals are spread equally along the ranges of predictors."
   ]
  },
  {
   "cell_type": "code",
   "execution_count": null,
   "metadata": {},
   "outputs": [],
   "source": [
    "def scale_location(x, y):\n",
    "    plt.scatter(x, y, alpha=0.8)\n",
    "    sns.regplot(x, y, scatter=False, ci=False, lowess=True,\n",
    "                line_kws={'color': 'red', 'lw': 2, 'alpha': 0.8})\n",
    "    \n",
    "    plt.xlabel('Fitted')\n",
    "    plt.ylabel('Sq-rt Standardized Residuals');"
   ]
  },
  {
   "cell_type": "markdown",
   "metadata": {},
   "source": [
    "* __Residual vs. Leverage__:\n",
    "\n",
    "This plot shows if any outliers have influence over the regression fit. The outliers can dramatically impact the model when the cases are outside of the Cook's distance."
   ]
  },
  {
   "cell_type": "code",
   "execution_count": null,
   "metadata": {},
   "outputs": [],
   "source": [
    "def leverage_vs_res_std(x, y):\n",
    "    plt.scatter(x, y, alpha=0.8, label=None)\n",
    "    sns.regplot(x, y, scatter=False, ci=False, lowess=True,\n",
    "                line_kws={'color': 'red', 'lw': 2, 'alpha': 0.8})\n",
    "\n",
    "    plt.xlim(np.min(x), np.max(x))\n",
    "    plt.ylim(np.min(y), np.max(y))\n",
    "    plt.xlabel('Leverage')\n",
    "    plt.ylabel('Standardized Residuals')\n",
    "\n",
    "    # shenanigans for cook's distance contours\n",
    "    def graph(formula, x_range, label=None):\n",
    "        x = x_range\n",
    "        y = formula(x)\n",
    "        plt.plot(x, y, label=label, lw=1, ls='--', color='red')\n",
    "\n",
    "    p = len(lm.params) # number of model parameters\n",
    "\n",
    "    graph(lambda t: np.sqrt((0.5 * p * (1 - t)) / t), \n",
    "          np.linspace(0.001, 0.200, 50), \n",
    "          'Cook\\'s distance') # 0.5 line\n",
    "\n",
    "    graph(lambda t: np.sqrt((1 * p * (1 - t)) / t), \n",
    "          np.linspace(0.001, 0.200, 50)) # 1 line\n",
    "\n",
    "    plt.legend(loc='upper right');"
   ]
  },
  {
   "cell_type": "markdown",
   "metadata": {},
   "source": [
    "I am using __scikit-learn__ for the regression fit in the following examples (first for the linear regression, and second for the second-degree polynomials)."
   ]
  },
  {
   "cell_type": "code",
   "execution_count": null,
   "metadata": {},
   "outputs": [],
   "source": [
    "# Instantiating the linear regression (from scikit-learn) and fitting the data\n",
    "lr_auto = LinearRegression()\n",
    "\n",
    "X = auto[['horsepower']]\n",
    "y = auto['mpg']\n",
    "\n",
    "lr_auto.fit(X, y)\n",
    "\n",
    "# Defining variables for the Residuals vs. Fitted plot\n",
    "fitted = lr_auto.predict(X)\n",
    "residuals = y - fitted"
   ]
  },
  {
   "cell_type": "code",
   "execution_count": null,
   "metadata": {},
   "outputs": [],
   "source": [
    "# Instantiating PolynomialFeatures\n",
    "from sklearn.preprocessing import PolynomialFeatures\n",
    "\n",
    "poly = PolynomialFeatures(2, include_bias = False)\n",
    "\n",
    "# Transforming X to second-degree polynomial\n",
    "X_poly = poly.fit_transform(X)\n",
    "\n",
    "# Fitting the model with transformed X\n",
    "lr_auto_poly = LinearRegression()\n",
    "lr_auto_poly.fit(X_poly, y)\n",
    "\n",
    "# Defining variables for the Residuals vs. Fitted plot\n",
    "fitted_poly = lr_auto_poly.predict(X_poly)\n",
    "residuals_poly = y - fitted_poly"
   ]
  },
  {
   "cell_type": "markdown",
   "metadata": {},
   "source": [
    "#### 1. Non-linearity of the Data\n",
    "\n",
    "__FIGURE 3.9.__ Plots of residuals vs. fitted values for the __Auto__ data set. Left plot shows a non-linearity in the data. Right plot shows that quadratic term improves the fit to the data (little pattern in the residuals)."
   ]
  },
  {
   "cell_type": "code",
   "execution_count": null,
   "metadata": {},
   "outputs": [],
   "source": [
    "plt.figure(figsize=(11, 5))\n",
    "\n",
    "# Left plot\n",
    "plt.subplot(1, 2, 1)\n",
    "plt.title('Residual Plot for Linear Fit')\n",
    "res_vs_fit(fitted, residuals)\n",
    "\n",
    "# Right plot\n",
    "plt.subplot(1, 2, 2)\n",
    "plt.title('Residual Plot for Quadratic Fit')\n",
    "res_vs_fit(fitted_poly, residuals_poly)"
   ]
  },
  {
   "cell_type": "markdown",
   "metadata": {},
   "source": [
    "#### 5. High Leverage Points\n",
    "\n",
    "__FIGURE 3.14.__ Scatterplots of the observations from the __Credit__ data set. Left: A plot of __age__ versus __limit__. These two variables are not collinear. Right: A plot of __rating__ versus __limit__. There is high collinearity."
   ]
  },
  {
   "cell_type": "code",
   "execution_count": null,
   "metadata": {},
   "outputs": [],
   "source": [
    "fig, ax = plt.subplots(1, 2, figsize=(11, 5))\n",
    "\n",
    "x = credit['Limit']\n",
    "\n",
    "# Left plot\n",
    "ax[0].scatter(x, credit['Age'], facecolors='None', edgecolors='r')\n",
    "ax[0].set_ylabel('Age')\n",
    "\n",
    "# Right plot\n",
    "ax[1].scatter(x, credit['Rating'], facecolors='None', edgecolors='r')\n",
    "ax[1].set_ylabel('Rating')\n",
    "\n",
    "for ax in fig.axes:\n",
    "    ax.set(xlabel='Limit',\n",
    "           xticks=[2000,4000,6000,8000,12000]);"
   ]
  },
  {
   "cell_type": "markdown",
   "metadata": {},
   "source": [
    "#### 6. Collinearity\n",
    "\n",
    "As it is mentioned in [JWarmenhoven](http://nbviewer.jupyter.org/github/JWarmenhoven/ISL-python/blob/master/Notebooks/Chapter%203.ipynb#Figure-3.2---Regression-coefficients---RSS) notebook, contour plots shown in this chapter are using centered data for being visually more appealing. We can still plot the contour plots without centering them."
   ]
  },
  {
   "cell_type": "code",
   "execution_count": null,
   "metadata": {},
   "outputs": [],
   "source": [
    "X1_reg = credit[['Age', 'Limit']]\n",
    "X2_reg = credit[['Rating', 'Limit']]\n",
    "\n",
    "y = credit['Balance']\n",
    "\n",
    "model_reg_1 = LinearRegression()\n",
    "model_reg_2 = LinearRegression()\n",
    "\n",
    "model_reg_1.fit(X1_reg, y)\n",
    "model_reg_2.fit(X2_reg, y)\n",
    "\n",
    "print('Model 1 intercept: {}'.format(model_reg_1.intercept_))\n",
    "print('Model 1 coefficient: {}'.format(model_reg_1.coef_))\n",
    "\n",
    "print('\\nModel 2 intercept: {}'.format(model_reg_2.intercept_))\n",
    "print('Model 2 coefficient: {}'.format(model_reg_2.coef_))"
   ]
  },
  {
   "cell_type": "code",
   "execution_count": null,
   "metadata": {},
   "outputs": [],
   "source": [
    "xx1 = np.linspace(model_reg_1.coef_[1] - 0.02, model_reg_1.coef_[1] + 0.02, 100)\n",
    "yy1 = np.linspace(model_reg_1.coef_[0] - 2, model_reg_1.coef_[0] + 2, 100)\n",
    "\n",
    "xx2 = np.linspace(model_reg_2.coef_[1] - 0.2, model_reg_2.coef_[1] + 0.2, 100)\n",
    "yy2 = np.linspace(model_reg_2.coef_[0] - 2, model_reg_2.coef_[0] + 2, 100)\n",
    "\n",
    "X1, Y1 = np.meshgrid(xx1, yy1)\n",
    "X2, Y2 = np.meshgrid(xx2, yy2)\n",
    "\n",
    "Z1 = np.zeros((xx1.size, yy1.size))\n",
    "Z2 = np.zeros((xx2.size, yy2.size))\n",
    "\n",
    "# RSS = (y-yhat)**2\n",
    "for (i,j),v in np.ndenumerate(Z1):\n",
    "    Z1[i,j] =np.sum((y - (model_reg_1.intercept_ + X1[i,j]*credit['Limit'] + Y1[i,j]*credit['Age']))**2)/1000000\n",
    "    \n",
    "for (i,j),v in np.ndenumerate(Z2):\n",
    "    Z2[i,j] =np.sum((y - (model_reg_2.intercept_ + X2[i,j]*credit['Limit'] + Y2[i,j]*credit['Rating']))**2)/1000000"
   ]
  },
  {
   "cell_type": "markdown",
   "metadata": {},
   "source": [
    "<br><br>\n",
    "__FIGURE 3.15.__ Contour plots for the RSS values as a function of the parameters β for various regressions involving the __Credit__ data set."
   ]
  },
  {
   "cell_type": "code",
   "execution_count": null,
   "metadata": {},
   "outputs": [],
   "source": [
    "fig = plt.figure(figsize=(12,5))\n",
    "\n",
    "ax1 = fig.add_subplot(121)\n",
    "ax2 = fig.add_subplot(122)\n",
    "  \n",
    "# Left plot\n",
    "contour = ax1.contour(X1, Y1, Z1, colors='navy', linewidths=0.5, levels=[21.25, 21.5, 21.8])\n",
    "ax1.scatter(model_reg_1.coef_[1], model_reg_1.coef_[0], c='k')\n",
    "ax1.plot(((model_reg_1.coef_[1] - 0.02), model_reg_1.coef_[1], model_reg_1.coef_[1]), \n",
    "         (model_reg_1.coef_[0], model_reg_1.coef_[0], (model_reg_1.coef_[0] - 2)), '--k', alpha=0.6)\n",
    "ax1.clabel(contour, inline=True, fontsize=10, fmt='%1.1f')\n",
    "ax1.set_ylabel(r'$\\beta_{Age}$', fontsize=16)\n",
    "\n",
    "# Right plot\n",
    "contour = ax2.contour(X2, Y2, Z2, colors='navy', linewidths=0.5, levels=[21.5, 21.8])\n",
    "ax2.scatter(model_reg_2.coef_[1], model_reg_2.coef_[0], c='k')\n",
    "ax2.plot(((model_reg_2.coef_[1] - 0.2), model_reg_2.coef_[1], model_reg_2.coef_[1]), \n",
    "         (model_reg_2.coef_[0], model_reg_2.coef_[0], (model_reg_2.coef_[0] - 2)), '--k', alpha=0.6)\n",
    "ax2.clabel(contour, inline=True, fontsize=10, fmt='%1.1f')\n",
    "ax2.set_ylabel(r'$\\beta_{Rating}$', fontsize=16)\n",
    "ax2.set_xticks([-0.1, 0, 0.1, 0.2])\n",
    "\n",
    "for ax in fig.axes:\n",
    "    ax.set_xlabel(r'$\\beta_{Limit}$', fontsize=16)"
   ]
  },
  {
   "cell_type": "markdown",
   "metadata": {},
   "source": [
    "<br><br>\n",
    "__TABLE 3.11.__ The results for two multiple regression models involving the __Credit__ data set are shown."
   ]
  },
  {
   "cell_type": "code",
   "execution_count": null,
   "metadata": {},
   "outputs": [],
   "source": [
    "lm1 = smf.ols('Balance ~ Age + Limit', data=credit).fit()\n",
    "lm2 = smf.ols('Balance ~ Rating + Limit', data=credit).fit()\n",
    "\n",
    "print(lm1.summary().tables[1])\n",
    "print(lm2.summary().tables[1])"
   ]
  },
  {
   "cell_type": "markdown",
   "metadata": {},
   "source": [
    "A better way to assess multicollinearity is to compute __variance inflation factor (VIF)__.\n",
    "\n",
    "\\begin{equation*}\n",
    "VIF(\\hat{\\beta}_j) = \\frac {1}{1 - R^2_{X_j|X_{-j}}}\n",
    "\\end{equation*}\n",
    "\n",
    "The smallest value for VIF is 1, indicating complete absence of collinearity. VIF exceeding 5 or 10 indicates problematic amount of collinearity."
   ]
  },
  {
   "cell_type": "code",
   "execution_count": null,
   "metadata": {},
   "outputs": [],
   "source": [
    "lm1_vif = smf.ols('Age ~ Rating + Limit', data=credit).fit()\n",
    "lm2_vif = smf.ols('Limit ~ Age + Rating', data=credit).fit()\n",
    "lm3_vif = smf.ols('Rating ~ Age + Limit', data=credit).fit()\n",
    "\n",
    "print('VIF 1 = {:.2f}'.format(1 / (1 - lm1_vif.rsquared)))\n",
    "print('VIF 2 = {:.2f}'.format(1 / (1 - lm2_vif.rsquared)))\n",
    "print('VIF 3 = {:.2f}'.format(1 / (1 - lm3_vif.rsquared)))"
   ]
  }
 ],
 "metadata": {
  "kernelspec": {
   "display_name": "Python 3",
   "language": "python",
   "name": "python3"
  },
  "language_info": {
   "codemirror_mode": {
    "name": "ipython",
    "version": 3
   },
   "file_extension": ".py",
   "mimetype": "text/x-python",
   "name": "python",
   "nbconvert_exporter": "python",
   "pygments_lexer": "ipython3",
   "version": "3.6.3"
  }
 },
 "nbformat": 4,
 "nbformat_minor": 2
}
