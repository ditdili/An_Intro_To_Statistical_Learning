{
 "cells": [
  {
   "cell_type": "markdown",
   "metadata": {},
   "source": [
    "## 2 A Little More on PyMC\n",
    "\n",
    "### 2.1.1 Parent and Child Relationships\n",
    "\n",
    "* __Parent variables__ are the variables that influence another variable.\n",
    "* __Child variables__ are the variables that are affected by other variables - are the subject of parent variables.\n",
    "\n",
    "A variable can be both a parent and child."
   ]
  },
  {
   "cell_type": "code",
   "execution_count": 1,
   "metadata": {},
   "outputs": [],
   "source": [
    "import pymc as pm\n",
    "\n",
    "lambda_ = pm.Exponential('poisson_param', 1)\n",
    "# used in the call to the next variable\n",
    "data_generator = pm.Poisson('data_generator', lambda_)\n",
    "data_plus_one = data_generator + 1"
   ]
  },
  {
   "cell_type": "code",
   "execution_count": 2,
   "metadata": {},
   "outputs": [
    {
     "name": "stdout",
     "output_type": "stream",
     "text": [
      "Children of lambda_:\n",
      " {<pymc.distributions.new_dist_class.<locals>.new_class 'data_generator' at 0x000002390302C518>}\n",
      "\n",
      "Parents of data_generator:\n",
      " {'mu': <pymc.distributions.new_dist_class.<locals>.new_class 'poisson_param' at 0x0000023903018B00>}\n",
      "\n",
      "Children of data_generator:\n",
      " {<pymc.PyMCObjects.Deterministic '(data_generator_add_1)' at 0x0000023903018BA8>}\n"
     ]
    }
   ],
   "source": [
    "print('Children of lambda_:\\n', lambda_.children)\n",
    "print('\\nParents of data_generator:\\n', data_generator.parents)\n",
    "print('\\nChildren of data_generator:\\n', data_generator.children)"
   ]
  },
  {
   "cell_type": "markdown",
   "metadata": {},
   "source": [
    "### 2.1.2 PyMC Variables"
   ]
  },
  {
   "cell_type": "code",
   "execution_count": 3,
   "metadata": {},
   "outputs": [
    {
     "name": "stdout",
     "output_type": "stream",
     "text": [
      "lambda_.value = 0.26414909384754887\n",
      "data_generator.value = 1\n",
      "data_plus_one.value = 2\n"
     ]
    }
   ],
   "source": [
    "print('lambda_.value =', lambda_.value)\n",
    "print('data_generator.value =', data_generator.value)\n",
    "print('data_plus_one.value =', data_plus_one.value)"
   ]
  },
  {
   "cell_type": "markdown",
   "metadata": {},
   "source": [
    "PyMC is concerned with two types of programming variables:\n",
    "\n",
    " * __Stochastic variables (random)__ \n",
    " * __Deterministic variables__\n",
    " \n",
    "#### Initializing Stochastic Variables\n",
    "\n",
    "some_variable = pm.DiscreteUniform('discrete_uni_var', 0, 4) - 0 and 4 are lower and upper bound of random variable.\n",
    "\n",
    "#### Calling random():\n",
    "\n",
    "We can also call on a stochastic variable's random() method, which (given the parent values) will generate a new, random value. The call to _random_ stores a new value into the variable's _value_ attribute. New value is stored in the computer's cache for faster recall and efficiency."
   ]
  },
  {
   "cell_type": "code",
   "execution_count": 4,
   "metadata": {},
   "outputs": [
    {
     "name": "stdout",
     "output_type": "stream",
     "text": [
      "lambda_1.value = 0.878\n",
      "lambda_2.value = 1.631\n",
      "tau.value = 10.000\n",
      "\n",
      "After calling random() on the variables:\n",
      "lambda_1.value = 0.849\n",
      "lambda_2.value = 2.069\n",
      "tau.value = 5.000\n"
     ]
    }
   ],
   "source": [
    "lambda_1 = pm.Exponential('lambda_1', 1)\n",
    "lambda_2 = pm.Exponential('lambda_2', 1)\n",
    "tau = pm.DiscreteUniform('tau', lower=0, upper=10)\n",
    "\n",
    "print('lambda_1.value = {0:.3f}'.format(lambda_1.value))\n",
    "print('lambda_2.value = {0:.3f}'.format(lambda_2.value))\n",
    "print('tau.value = {0:.3f}'.format(tau.value))\n",
    "\n",
    "lambda_1.random(), lambda_2.random(), tau.random()\n",
    "\n",
    "print('\\nAfter calling random() on the variables:')\n",
    "print('lambda_1.value = {0:.3f}'.format(lambda_1.value))\n",
    "print('lambda_2.value = {0:.3f}'.format(lambda_2.value))\n",
    "print('tau.value = {0:.3f}'.format(tau.value))"
   ]
  },
  {
   "cell_type": "markdown",
   "metadata": {},
   "source": [
    "#### Deterministic Variables\n",
    "\n",
    "@pm.deterministic  \n",
    "def some_deterministic_var(v1=v1,):  \n",
    "&nbsp;&nbsp;&nbsp;&nbsp;code\n",
    "\n",
    "Elementary operations, like addition, exponentials, and so forth implicitly create deterministic variables."
   ]
  },
  {
   "cell_type": "code",
   "execution_count": 5,
   "metadata": {},
   "outputs": [
    {
     "data": {
      "text/plain": [
       "pymc.PyMCObjects.Deterministic"
      ]
     },
     "execution_count": 5,
     "metadata": {},
     "output_type": "execute_result"
    }
   ],
   "source": [
    "type(lambda_1 + lambda_2)"
   ]
  },
  {
   "cell_type": "markdown",
   "metadata": {},
   "source": [
    "Inside the deterministic decorator, the __Stochastic__ variables passed in behave like scalars or NumPy arrays (if multivariate), and not like stochastic variables.\n",
    "\n",
    "@pm.deterministic  \n",
    "def some_deterministic(stoch=some_stochastic_var):  \n",
    "&nbsp;&nbsp;&nbsp;&nbsp;return stoch.value**2\n",
    "\n",
    "This will return AttributeError. It simply needs to be stoch\\*\\*2 instead of stoch.value\n",
    "\n",
    "### 2.1.3 Including Observations in the Model\n",
    "\n",
    "We specified our priors. We can now look at the distribution:"
   ]
  },
  {
   "cell_type": "code",
   "execution_count": 6,
   "metadata": {},
   "outputs": [
    {
     "data": {
      "image/png": "[encoded data removed]",
      "text/plain": [
       "<matplotlib.figure.Figure at 0x23914839320>"
      ]
     },
     "metadata": {},
     "output_type": "display_data"
    }
   ],
   "source": [
    "%matplotlib inline\n",
    "from IPython.core.pylabtools import figsize\n",
    "import matplotlib.pyplot as plt\n",
    "import seaborn; seaborn.set_style('whitegrid')\n",
    "figsize(12.5, 4)\n",
    "\n",
    "samples = [lambda_1.random() for i in range(20000)]\n",
    "plt.hist(samples, bins=70, normed=True, histtype='stepfilled')\n",
    "plt.title('Figure 2.1.1: Prior distribution for $\\lambda_1$')\n",
    "plt.xlabel('Values')\n",
    "plt.ylabel('Density')\n",
    "plt.xlim(0, 8);"
   ]
  },
  {
   "cell_type": "code",
   "execution_count": 7,
   "metadata": {},
   "outputs": [
    {
     "data": {
      "image/png": "[encoded data removed]",
      "text/plain": [
       "<matplotlib.figure.Figure at 0x23917de9d68>"
      ]
     },
     "metadata": {},
     "output_type": "display_data"
    }
   ],
   "source": [
    "# trying scipy stats module\n",
    "import numpy as np\n",
    "from scipy.stats import expon\n",
    "x = np.linspace(0, 8, 20000)\n",
    "\n",
    "y_expon = expon.pdf(x, scale = 1.0)\n",
    "r = expon.rvs(size=20000)\n",
    "\n",
    "plt.plot(x, y_expon, c='orange', alpha=0.8, label='$\\lambda$ = 1.0')\n",
    "plt.hist(r, bins=70, normed=True, histtype='stepfilled', alpha=0.6)\n",
    "plt.xlabel('Values')\n",
    "plt.ylabel('Density')\n",
    "plt.xlim(0, 8)\n",
    "plt.legend(loc='upper right', frameon=True, fontsize='12');"
   ]
  },
  {
   "cell_type": "markdown",
   "metadata": {},
   "source": [
    "PyMC stochastic variables have a keyword argument __observed__ which accepts a boolean (False by default). The keyword observed has a very simple role: fix the variable's current value, i.e. make value immutable."
   ]
  },
  {
   "cell_type": "code",
   "execution_count": 8,
   "metadata": {},
   "outputs": [
    {
     "name": "stdout",
     "output_type": "stream",
     "text": [
      "value: [10  5]\n",
      "calling .random()\n",
      "value: [10  5]\n"
     ]
    }
   ],
   "source": [
    "data = np.array([10, 5])\n",
    "fixed_variable = pm.Poisson(\"fxd\", 1, value=data, observed=True)\n",
    "print('value:', fixed_variable.value)\n",
    "print('calling .random()')\n",
    "fixed_variable.random()\n",
    "print('value:', fixed_variable.value)"
   ]
  },
  {
   "cell_type": "markdown",
   "metadata": {},
   "source": [
    "### 2.1.4 Finally...\n",
    "\n",
    "We wrap all created variables into a pm.Model class. "
   ]
  },
  {
   "cell_type": "code",
   "execution_count": 9,
   "metadata": {},
   "outputs": [
    {
     "name": "stdout",
     "output_type": "stream",
     "text": [
      "[10 25 15 20 35]\n"
     ]
    }
   ],
   "source": [
    "data = np.array([10, 25, 15, 20, 35])\n",
    "obs = pm.Poisson(\"obs\", lambda_, value=data, observed=True)\n",
    "print(obs.value)"
   ]
  },
  {
   "cell_type": "code",
   "execution_count": 10,
   "metadata": {},
   "outputs": [],
   "source": [
    "model = pm.Model([obs, lambda_, lambda_1, lambda_2, tau])"
   ]
  },
  {
   "cell_type": "markdown",
   "metadata": {},
   "source": [
    "p.33"
   ]
  }
 ],
 "metadata": {
  "kernelspec": {
   "display_name": "Python 3",
   "language": "python",
   "name": "python3"
  },
  "language_info": {
   "codemirror_mode": {
    "name": "ipython",
    "version": 3
   },
   "file_extension": ".py",
   "mimetype": "text/x-python",
   "name": "python",
   "nbconvert_exporter": "python",
   "pygments_lexer": "ipython3",
   "version": "3.6.3"
  }
 },
 "nbformat": 4,
 "nbformat_minor": 2
}
