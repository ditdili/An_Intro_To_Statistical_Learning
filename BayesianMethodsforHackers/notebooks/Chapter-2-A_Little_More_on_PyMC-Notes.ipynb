{
 "cells": [
  {
   "cell_type": "markdown",
   "metadata": {},
   "source": [
    "## 2 A Little More on PyMC\n",
    "\n",
    "### 2.1.1 Parent and Child Relationships\n",
    "\n",
    "* __Parent variables__ are the variables that influence another variable.\n",
    "* __Child variables__ are the variables that are affected by other variables - are the subject of parent variables.\n",
    "\n",
    "A variable can be both a parent and child."
   ]
  },
  {
   "cell_type": "code",
   "execution_count": 1,
   "metadata": {},
   "outputs": [],
   "source": [
    "import pymc as pm\n",
    "\n",
    "lambda_ = pm.Exponential('poisson_param', 1)\n",
    "# used in the call to the next variable\n",
    "data_generator = pm.Poisson('data_generator', lambda_)\n",
    "data_plus_one = data_generator + 1"
   ]
  },
  {
   "cell_type": "code",
   "execution_count": 2,
   "metadata": {},
   "outputs": [
    {
     "name": "stdout",
     "output_type": "stream",
     "text": [
      "Children of lambda_:\n",
      " {<pymc.distributions.new_dist_class.<locals>.new_class 'data_generator' at 0x00000229C3C5C048>}\n",
      "\n",
      "Parents of data_generator:\n",
      " {'mu': <pymc.distributions.new_dist_class.<locals>.new_class 'poisson_param' at 0x00000229C3C3ECC0>}\n",
      "\n",
      "Children of data_generator:\n",
      " {<pymc.PyMCObjects.Deterministic '(data_generator_add_1)' at 0x00000229C3C3ED68>}\n"
     ]
    }
   ],
   "source": [
    "print('Children of lambda_:\\n', lambda_.children)\n",
    "print('\\nParents of data_generator:\\n', data_generator.parents)\n",
    "print('\\nChildren of data_generator:\\n', data_generator.children)"
   ]
  },
  {
   "cell_type": "markdown",
   "metadata": {},
   "source": [
    "### 2.1.2 PyMC Variables"
   ]
  },
  {
   "cell_type": "code",
   "execution_count": 3,
   "metadata": {},
   "outputs": [
    {
     "name": "stdout",
     "output_type": "stream",
     "text": [
      "lambda_.value = 1.544460088798696\n",
      "data_generator.value = 3\n",
      "data_plus_one.value = 4\n"
     ]
    }
   ],
   "source": [
    "print('lambda_.value =', lambda_.value)\n",
    "print('data_generator.value =', data_generator.value)\n",
    "print('data_plus_one.value =', data_plus_one.value)"
   ]
  },
  {
   "cell_type": "markdown",
   "metadata": {},
   "source": [
    "PyMC is concerned with two types of programming variables:\n",
    "\n",
    " * __Stochastic variables (random)__ \n",
    " * __Deterministic variables__\n",
    " \n",
    "Note: PyMC [distributions](http://pymc-devs.github.io/pymc/distributions.html).\n",
    "\n",
    "#### Initializing Stochastic Variables\n",
    "\n",
    "some_variable = pm.DiscreteUniform('discrete_uni_var', 0, 4) - 0 and 4 are lower and upper bound of random variable.\n",
    "\n",
    "#### Calling random():\n",
    "\n",
    "We can also call on a stochastic variable's random() method, which (given the parent values) will generate a new, random value. The call to _random_ stores a new value into the variable's _value_ attribute. New value is stored in the computer's cache for faster recall and efficiency."
   ]
  },
  {
   "cell_type": "code",
   "execution_count": 4,
   "metadata": {},
   "outputs": [
    {
     "name": "stdout",
     "output_type": "stream",
     "text": [
      "lambda_1.value = 0.572\n",
      "lambda_2.value = 0.063\n",
      "tau.value = 4.000\n",
      "\n",
      "After calling random() on the variables:\n",
      "lambda_1.value = 0.892\n",
      "lambda_2.value = 0.180\n",
      "tau.value = 8.000\n"
     ]
    }
   ],
   "source": [
    "lambda_1 = pm.Exponential('lambda_1', 1)\n",
    "lambda_2 = pm.Exponential('lambda_2', 1)\n",
    "tau = pm.DiscreteUniform('tau', lower=0, upper=10)\n",
    "\n",
    "print('lambda_1.value = {0:.3f}'.format(lambda_1.value))\n",
    "print('lambda_2.value = {0:.3f}'.format(lambda_2.value))\n",
    "print('tau.value = {0:.3f}'.format(tau.value))\n",
    "\n",
    "lambda_1.random(), lambda_2.random(), tau.random()\n",
    "\n",
    "print('\\nAfter calling random() on the variables:')\n",
    "print('lambda_1.value = {0:.3f}'.format(lambda_1.value))\n",
    "print('lambda_2.value = {0:.3f}'.format(lambda_2.value))\n",
    "print('tau.value = {0:.3f}'.format(tau.value))"
   ]
  },
  {
   "cell_type": "markdown",
   "metadata": {},
   "source": [
    "#### Deterministic Variables\n",
    "\n",
    "@pm.deterministic  \n",
    "def some_deterministic_var(v1=v1,):  \n",
    "&nbsp;&nbsp;&nbsp;&nbsp;code\n",
    "\n",
    "Elementary operations, like addition, exponentials, and so forth implicitly create deterministic variables."
   ]
  },
  {
   "cell_type": "code",
   "execution_count": 5,
   "metadata": {},
   "outputs": [
    {
     "data": {
      "text/plain": [
       "pymc.PyMCObjects.Deterministic"
      ]
     },
     "execution_count": 5,
     "metadata": {},
     "output_type": "execute_result"
    }
   ],
   "source": [
    "type(lambda_1 + lambda_2)"
   ]
  },
  {
   "cell_type": "markdown",
   "metadata": {},
   "source": [
    "Inside the deterministic decorator, the __Stochastic__ variables passed in behave like scalars or NumPy arrays (if multivariate), and not like stochastic variables.\n",
    "\n",
    "@pm.deterministic  \n",
    "def some_deterministic(stoch=some_stochastic_var):  \n",
    "&nbsp;&nbsp;&nbsp;&nbsp;return stoch.value**2\n",
    "\n",
    "This will return AttributeError. It simply needs to be stoch\\*\\*2 instead of stoch.value\n",
    "\n",
    "### 2.1.3 Including Observations in the Model\n",
    "\n",
    "We specified our priors. We can now look at the distribution:"
   ]
  },
  {
   "cell_type": "code",
   "execution_count": 6,
   "metadata": {},
   "outputs": [
    {
     "data": {
      "image/png": "[encoded data removed]",
      "text/plain": [
       "<matplotlib.figure.Figure at 0x229d5476550>"
      ]
     },
     "metadata": {},
     "output_type": "display_data"
    }
   ],
   "source": [
    "%matplotlib inline\n",
    "from IPython.core.pylabtools import figsize\n",
    "import matplotlib.pyplot as plt\n",
    "import seaborn; seaborn.set_style('whitegrid')\n",
    "figsize(12.5, 4)\n",
    "\n",
    "samples = [lambda_1.random() for i in range(20000)]\n",
    "plt.hist(samples, bins=70, normed=True, histtype='stepfilled')\n",
    "plt.title('Figure 2.1.1: Prior distribution for $\\lambda_1$')\n",
    "plt.xlabel('Values')\n",
    "plt.ylabel('Density')\n",
    "plt.xlim(0, 8);"
   ]
  },
  {
   "cell_type": "code",
   "execution_count": 7,
   "metadata": {},
   "outputs": [
    {
     "data": {
      "image/png": "[encoded data removed]",
      "text/plain": [
       "<matplotlib.figure.Figure at 0x229d8ae0b70>"
      ]
     },
     "metadata": {},
     "output_type": "display_data"
    }
   ],
   "source": [
    "# trying scipy stats module\n",
    "import numpy as np\n",
    "from scipy.stats import expon\n",
    "x = np.linspace(0, 8, 20000)\n",
    "\n",
    "y_expon = expon.pdf(x, scale = 1.0)\n",
    "r = expon.rvs(size=20000)\n",
    "\n",
    "plt.plot(x, y_expon, c='orange', alpha=0.8, label='$\\lambda$ = 1.0')\n",
    "plt.hist(r, bins=70, normed=True, histtype='stepfilled', alpha=0.6)\n",
    "plt.xlabel('Values')\n",
    "plt.ylabel('Density')\n",
    "plt.xlim(0, 8)\n",
    "plt.legend(loc='upper right', frameon=True, fontsize='12');"
   ]
  },
  {
   "cell_type": "markdown",
   "metadata": {},
   "source": [
    "PyMC stochastic variables have a keyword argument __observed__ which accepts a boolean (False by default). The keyword observed has a very simple role: fix the variable's current value, i.e. make value immutable."
   ]
  },
  {
   "cell_type": "code",
   "execution_count": 8,
   "metadata": {},
   "outputs": [
    {
     "name": "stdout",
     "output_type": "stream",
     "text": [
      "value: [10  5]\n",
      "calling .random()\n",
      "value: [10  5]\n"
     ]
    }
   ],
   "source": [
    "data = np.array([10, 5])\n",
    "fixed_variable = pm.Poisson(\"fxd\", 1, value=data, observed=True)\n",
    "print('value:', fixed_variable.value)\n",
    "print('calling .random()')\n",
    "fixed_variable.random()\n",
    "print('value:', fixed_variable.value)"
   ]
  },
  {
   "cell_type": "markdown",
   "metadata": {},
   "source": [
    "### 2.1.4 Finally...\n",
    "\n",
    "We wrap all created variables into a pm.Model class. "
   ]
  },
  {
   "cell_type": "code",
   "execution_count": 9,
   "metadata": {},
   "outputs": [
    {
     "name": "stdout",
     "output_type": "stream",
     "text": [
      "[10 25 15 20 35]\n"
     ]
    }
   ],
   "source": [
    "data = np.array([10, 25, 15, 20, 35])\n",
    "obs = pm.Poisson(\"obs\", lambda_, value=data, observed=True)\n",
    "print(obs.value)"
   ]
  },
  {
   "cell_type": "code",
   "execution_count": 10,
   "metadata": {},
   "outputs": [],
   "source": [
    "model = pm.Model([obs, lambda_, lambda_1, lambda_2, tau])"
   ]
  },
  {
   "cell_type": "markdown",
   "metadata": {},
   "source": [
    "### Modeling Approaches\n",
    "\n",
    "A good starting thought to Bayesian modeling is to think how the data might have been generated.\n",
    "\n",
    "### 2.2.1 Same Story, Different Ending\n",
    "\n",
    "We can create new datasets by retelling the story.\n",
    "\n",
    "1 - Specify when the user's behavior switches by sampling from DiscreteUniform(0, 80):"
   ]
  },
  {
   "cell_type": "code",
   "execution_count": 11,
   "metadata": {},
   "outputs": [
    {
     "name": "stdout",
     "output_type": "stream",
     "text": [
      "58\n"
     ]
    }
   ],
   "source": [
    "# similar to np.random.randint\n",
    "tau = pm.rdiscrete_uniform(0, 80)\n",
    "print(tau)"
   ]
  },
  {
   "cell_type": "markdown",
   "metadata": {},
   "source": [
    "2 - Draw $\\lambda_1$ and $\\lambda_2$ from an $Exp(\\alpha)$ distribution:"
   ]
  },
  {
   "cell_type": "code",
   "execution_count": 12,
   "metadata": {},
   "outputs": [
    {
     "name": "stdout",
     "output_type": "stream",
     "text": [
      "10.519592316092837 0.314559883173564\n"
     ]
    }
   ],
   "source": [
    "alpha = 1. / 20.\n",
    "lambda_1, lambda_2 = pm.rexponential(alpha, 2)\n",
    "print(lambda_1, lambda_2)"
   ]
  },
  {
   "cell_type": "markdown",
   "metadata": {},
   "source": [
    "3 - For days before $\\tau$, represent the user's received SMS count by sampling from $Poi(\\lambda_1)$, and sample from $Poi(\\lambda_2)$ for days after $\\tau$:"
   ]
  },
  {
   "cell_type": "code",
   "execution_count": 13,
   "metadata": {},
   "outputs": [
    {
     "name": "stdout",
     "output_type": "stream",
     "text": [
      "[10 10 15  7 18  8  8 14 14 13 14 13 22 10  7 10 10 15  8 12  6 16 11 12\n",
      " 17 10 10  7  7 12 10 10 14 12 15  7 13  9 12 10  9 12  7 13  6  6  5 14\n",
      " 10  8 12  9 15  8  9  8  6 13  0  1  0  0  2  1  0  0  1  0  0  1  1  1\n",
      "  0  0  0  1  0  0  0  0]\n"
     ]
    }
   ],
   "source": [
    "data = np.r_[pm.rpoisson(lambda_1, tau), pm.rpoisson(lambda_2, 80 - tau)]\n",
    "print(data)"
   ]
  },
  {
   "cell_type": "markdown",
   "metadata": {},
   "source": [
    "4 - Plot the artificial dataset:"
   ]
  },
  {
   "cell_type": "code",
   "execution_count": 14,
   "metadata": {},
   "outputs": [
    {
     "data": {
      "image/png": "[encoded data removed]",
      "text/plain": [
       "<matplotlib.figure.Figure at 0x229d8ae0128>"
      ]
     },
     "metadata": {},
     "output_type": "display_data"
    }
   ],
   "source": [
    "plt.bar(np.arange(80), data, color=\"#348ABD\")\n",
    "plt.bar(tau - 1, data[tau - 1], color='r', label='user behavior changed')\n",
    "plt.xlabel('Time (days)')\n",
    "plt.ylabel('count of text-msgs received')\n",
    "plt.title('Figure 2.2.2: Artificial dataset from simulating the model')\n",
    "plt.xlim(0, 80)\n",
    "plt.legend(frameon=True);"
   ]
  },
  {
   "cell_type": "code",
   "execution_count": 15,
   "metadata": {},
   "outputs": [
    {
     "data": {
      "image/png": "[encoded data removed]",
      "text/plain": [
       "<matplotlib.figure.Figure at 0x229d8bbceb8>"
      ]
     },
     "metadata": {},
     "output_type": "display_data"
    }
   ],
   "source": [
    "def plot_artificial_sms_dataset():\n",
    "    tau = pm.rdiscrete_uniform(0, 80)\n",
    "    alpha = 1. / 20.\n",
    "    lambda_1, lambda_2 = pm.rexponential(alpha, 2)\n",
    "    data = np.r_[pm.rpoisson(lambda_1, tau), pm.rpoisson(lambda_2, 80 - tau)]\n",
    "    plt.bar(np.arange(80), data, color=\"#348ABD\")\n",
    "    plt.bar(tau - 1, data[tau - 1], color='r', label='user behavior changed')\n",
    "    plt.xlim(0, 80)\n",
    "    \n",
    "figsize(12.5, 5)\n",
    "plt.suptitle('Figure 2.2.3: More examples of artificial datasets from simulating our model')\n",
    "\n",
    "for i in range(1, 5):\n",
    "    plt.subplot(4, 1, i)\n",
    "    plot_artificial_sms_dataset()"
   ]
  },
  {
   "cell_type": "markdown",
   "metadata": {},
   "source": [
    "### 2.2.2 Example: Bayesian A/B Testing\n",
    "\n",
    "### 2.2.3 A Simple Case\n",
    "\n",
    "Assume that there is some probability, $p_A$, that users who are shown site A eventually convert. Observed frequency $\\frac{n}{N}$ doesn't necessarily equal $p_A$. We must determine the true frequency of events:\n",
    "\n",
    " * The fraction of users who make purchases\n",
    " * The frequency of social attributes\n",
    " * The percent of Internet users with cats, etc.\n",
    " \n",
    "Often the true frequency is hidden from us and we must infer it from observed data. We are interested in using what we know, $N$ (the total trials administered) and $n$ (the number of conversions), to estimate what $p_A$, the true frequency of buyers, might be. To set up a Bayesian model, we need to assign prior distributions to our unknown quantities. Let's assume  $p_A$ is uniform over \\[0, 1\\]:"
   ]
  },
  {
   "cell_type": "code",
   "execution_count": 16,
   "metadata": {},
   "outputs": [],
   "source": [
    "p = pm.Uniform('p', lower=0, upper=1)"
   ]
  },
  {
   "cell_type": "markdown",
   "metadata": {},
   "source": [
    "Suppose $p_A = 0.05$, and $N = 1500$. We will use Bernoulli distribution to simulate N trials:  \n",
    "If $X \\sim Ber(p)$, the X is 1 with probability p, and 0 with probability 1 - p:"
   ]
  },
  {
   "cell_type": "code",
   "execution_count": 17,
   "metadata": {},
   "outputs": [
    {
     "name": "stdout",
     "output_type": "stream",
     "text": [
      "[False False False ... False False False]\n",
      "85\n"
     ]
    }
   ],
   "source": [
    "# Set constants; p_true is unknown in real life\n",
    "p_true = 0.05\n",
    "N = 1500\n",
    "\n",
    "# sample N Bernoulli random variables from Ber(0.05).\n",
    "# each random variable has a 0.05 chance of being a 1.\n",
    "occurrences = pm.rbernoulli(p_true, N)\n",
    "\n",
    "print(occurrences)\n",
    "print(occurrences.sum())"
   ]
  },
  {
   "cell_type": "code",
   "execution_count": 18,
   "metadata": {},
   "outputs": [
    {
     "name": "stdout",
     "output_type": "stream",
     "text": [
      "Observed frequency in Group A: 0.0567\n",
      "Observed frequency equal true? False\n"
     ]
    }
   ],
   "source": [
    "# Checking if observed frequency is equal to true\n",
    "print('Observed frequency in Group A: {0:.4f}'.format(occurrences.mean()))\n",
    "print('Observed frequency equal true? {}'.format(occurrences.mean() == p_true))"
   ]
  },
  {
   "cell_type": "markdown",
   "metadata": {},
   "source": [
    "We combine the observations into PyMC observed variable, and run inference algorithm:"
   ]
  },
  {
   "cell_type": "code",
   "execution_count": 19,
   "metadata": {},
   "outputs": [
    {
     "name": "stdout",
     "output_type": "stream",
     "text": [
      " [-----------------100%-----------------] 18000 of 18000 complete in 1.5 sec"
     ]
    }
   ],
   "source": [
    "# include observations (Bernoulli)\n",
    "obs = pm.Bernoulli('obs', p, value=occurrences, observed=True)\n",
    "\n",
    "mcmc = pm.MCMC([p, obs])\n",
    "mcmc.sample(18000, 1000)"
   ]
  },
  {
   "cell_type": "markdown",
   "metadata": {},
   "source": [
    "Plotting posterior distribution of the unknown $p_A$:"
   ]
  },
  {
   "cell_type": "code",
   "execution_count": 20,
   "metadata": {},
   "outputs": [
    {
     "data": {
      "image/png": "[encoded data removed]",
      "text/plain": [
       "<matplotlib.figure.Figure at 0x229d8e8cda0>"
      ]
     },
     "metadata": {},
     "output_type": "display_data"
    }
   ],
   "source": [
    "figsize(12.5, 4)\n",
    "plt.title('Figure 2.2.4: Posterior distribution of $p_A$, the true effectiveness of site A')\n",
    "plt.hist(mcmc.trace('p')[:], bins=25, histtype='stepfilled', normed=True)\n",
    "plt.vlines(p_true, 0, 90, linestyle='--', label='true $p_A$ (unknown)')\n",
    "plt.xlabel('Value of $p_A$')\n",
    "plt.ylabel('Density')\n",
    "plt.legend(frameon=True);"
   ]
  },
  {
   "cell_type": "markdown",
   "metadata": {},
   "source": [
    "p.41"
   ]
  }
 ],
 "metadata": {
  "kernelspec": {
   "display_name": "Python 3",
   "language": "python",
   "name": "python3"
  },
  "language_info": {
   "codemirror_mode": {
    "name": "ipython",
    "version": 3
   },
   "file_extension": ".py",
   "mimetype": "text/x-python",
   "name": "python",
   "nbconvert_exporter": "python",
   "pygments_lexer": "ipython3",
   "version": "3.6.3"
  }
 },
 "nbformat": 4,
 "nbformat_minor": 2
}
